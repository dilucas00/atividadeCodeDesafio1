{
 "cells": [
  {
   "cell_type": "code",
   "execution_count": 5,
   "metadata": {},
   "outputs": [
    {
     "name": "stdout",
     "output_type": "stream",
     "text": [
      "============== DETRAN =============\n",
      "Ano do carro: 2020 \n",
      "o Preço do carro: R$15000.0 \n",
      "O valor a ser pago de imposto é de: R$225.0\n"
     ]
    }
   ],
   "source": [
    "ano = int(input(\"Qual ano de fabricação do carro? \"))\n",
    "precoCarro = float(input(\"Qual valor do carro? \"))\n",
    "porcentagemCarrosAntigos = 1\n",
    "porcentagemCarrosNovos = 1.5\n",
    "\n",
    "print(\"============== DETRAN =============\")\n",
    "if (ano < 1990):\n",
    "    resultadoCarroAntigo = (porcentagemCarrosAntigos / 100) * precoCarro\n",
    "    print(f\"Ano do carro: {ano}\",\"\\n\" f\"o Preço do carro: R${precoCarro}\",\"\\n\" f\"O valor a ser pago de imposto é de: R${resultadoCarroAntigo}\")\n",
    "else:\n",
    "    resultadoCarroNovo = (porcentagemCarrosNovos / 100) * precoCarro\n",
    "    print(f\"Ano do carro: {ano}\",\"\\n\" f\"o Preço do carro: R${precoCarro}\",\"\\n\" f\"O valor a ser pago de imposto é de: R${resultadoCarroNovo}\")"
   ]
  },
  {
   "cell_type": "code",
   "execution_count": null,
   "metadata": {},
   "outputs": [],
   "source": []
  }
 ],
 "metadata": {
  "kernelspec": {
   "display_name": "Python 3",
   "language": "python",
   "name": "python3"
  },
  "language_info": {
   "codemirror_mode": {
    "name": "ipython",
    "version": 3
   },
   "file_extension": ".py",
   "mimetype": "text/x-python",
   "name": "python",
   "nbconvert_exporter": "python",
   "pygments_lexer": "ipython3",
   "version": "3.12.2"
  }
 },
 "nbformat": 4,
 "nbformat_minor": 2
}
